{
 "cells": [
  {
   "cell_type": "code",
   "execution_count": 2,
   "metadata": {},
   "outputs": [],
   "source": [
    "from pyspark.sql import SparkSession\n",
    "from pyspark.sql import functions as f\n",
    "\n",
    "spark = SparkSession.builder.appName(\"RecommederSys\").getOrCreate()"
   ]
  },
  {
   "cell_type": "code",
   "execution_count": 8,
   "metadata": {},
   "outputs": [
    {
     "name": "stdout",
     "output_type": "stream",
     "text": [
      "+------+-------+------+-------------------+\n",
      "|userId|movieId|rating|          timestamp|\n",
      "+------+-------+------+-------------------+\n",
      "|     1|    307|   3.5|2009-10-28 00:00:21|\n",
      "|     1|    481|   3.5|2009-10-28 00:04:16|\n",
      "|     1|   1091|   1.5|2009-10-28 00:04:31|\n",
      "|     1|   1257|   4.5|2009-10-28 00:04:20|\n",
      "|     1|   1449|   4.5|2009-10-28 00:01:04|\n",
      "+------+-------+------+-------------------+\n",
      "only showing top 5 rows\n",
      "\n"
     ]
    }
   ],
   "source": [
    "ratings_location = \"/home/datamaking/Documents/Hadoop/ml-latest/ratings.csv\"\n",
    "\n",
    "ratings = (\n",
    "            spark.read.csv(\n",
    "                path=ratings_location,\n",
    "                header=True,\n",
    "                sep=\",\",\n",
    "                quote='\"',\n",
    "                schema=\"userId INT, movieId INT, rating DOUBLE, timestamp INT\"\n",
    "                )\n",
    "                .withColumn(\"timestamp\", f.to_timestamp(f.from_unixtime(\"timestamp\")))\n",
    "                .cache()\n",
    "            )\n"
   ]
  },
  {
   "cell_type": "code",
   "execution_count": null,
   "metadata": {},
   "outputs": [],
   "source": [
    "ratings.show(5)"
   ]
  },
  {
   "cell_type": "code",
   "execution_count": 9,
   "metadata": {},
   "outputs": [
    {
     "name": "stdout",
     "output_type": "stream",
     "text": [
      "+-------+------------------+-----------------+------------------+\n",
      "|summary|            userId|          movieId|            rating|\n",
      "+-------+------------------+-----------------+------------------+\n",
      "|  count|          27753444|         27753444|          27753444|\n",
      "|   mean|141942.01557064414|18487.99983414671|3.5304452124932677|\n",
      "| stddev| 81707.40009148984| 35102.6252474677|1.0663527502319696|\n",
      "|    min|                 1|                1|               0.5|\n",
      "|    25%|             71164|             1099|               3.0|\n",
      "|    50%|            142014|             2716|               3.5|\n",
      "|    75%|            212466|             7151|               4.0|\n",
      "|    max|            283228|           193886|               5.0|\n",
      "+-------+------------------+-----------------+------------------+\n",
      "\n"
     ]
    }
   ],
   "source": [
    "ratings.summary().show()"
   ]
  },
  {
   "cell_type": "code",
   "execution_count": 10,
   "metadata": {},
   "outputs": [],
   "source": [
    "from pyspark.ml.recommendation import ALS"
   ]
  },
  {
   "cell_type": "code",
   "execution_count": 14,
   "metadata": {},
   "outputs": [
    {
     "name": "stdout",
     "output_type": "stream",
     "text": [
      "root\n",
      " |-- userId: integer (nullable = true)\n",
      " |-- movieId: integer (nullable = true)\n",
      " |-- rating: double (nullable = true)\n",
      "\n"
     ]
    }
   ],
   "source": [
    "ratings = ratings.drop(\"timestamp\")\n",
    "ratings.printSchema()"
   ]
  },
  {
   "cell_type": "code",
   "execution_count": 15,
   "metadata": {},
   "outputs": [],
   "source": [
    "model = (\n",
    "    ALS(userCol=\"userId\",\n",
    "        itemCol=\"movieId\",\n",
    "        ratingCol=\"rating\").fit(ratings)\n",
    "        )"
   ]
  },
  {
   "cell_type": "code",
   "execution_count": 16,
   "metadata": {},
   "outputs": [
    {
     "data": {
      "text/plain": [
       "pyspark.ml.recommendation.ALSModel"
      ]
     },
     "execution_count": 16,
     "metadata": {},
     "output_type": "execute_result"
    }
   ],
   "source": [
    "type(model)"
   ]
  },
  {
   "cell_type": "code",
   "execution_count": 18,
   "metadata": {},
   "outputs": [],
   "source": [
    "predictions = model.transform(ratings)"
   ]
  },
  {
   "cell_type": "code",
   "execution_count": 19,
   "metadata": {},
   "outputs": [
    {
     "data": {
      "text/plain": [
       "pyspark.sql.dataframe.DataFrame"
      ]
     },
     "execution_count": 19,
     "metadata": {},
     "output_type": "execute_result"
    }
   ],
   "source": [
    "type(predictions)"
   ]
  },
  {
   "cell_type": "code",
   "execution_count": 20,
   "metadata": {},
   "outputs": [
    {
     "name": "stdout",
     "output_type": "stream",
     "text": [
      "+------+-------+------+----------+\n",
      "|userId|movieId|rating|prediction|\n",
      "+------+-------+------+----------+\n",
      "|107339|148    |4.0   |3.3795822 |\n",
      "|93112 |148    |3.0   |2.9064484 |\n",
      "|106148|148    |2.5   |2.839487  |\n",
      "|234926|148    |4.0   |2.9622898 |\n",
      "|253535|148    |4.0   |3.0288193 |\n",
      "|50155 |148    |3.0   |2.9910944 |\n",
      "|65991 |148    |4.0   |3.0593572 |\n",
      "|146376|148    |5.0   |3.672718  |\n",
      "|207939|148    |3.0   |2.7276554 |\n",
      "|41788 |148    |3.0   |2.780521  |\n",
      "|220572|148    |2.0   |2.7654417 |\n",
      "|244192|148    |3.0   |2.586741  |\n",
      "|273242|148    |4.0   |3.2985163 |\n",
      "|52620 |148    |1.0   |2.7473435 |\n",
      "|98426 |148    |3.0   |2.4786794 |\n",
      "|102642|148    |4.0   |3.2133152 |\n",
      "|108082|148    |3.0   |2.9138048 |\n",
      "|264081|148    |3.0   |2.919073  |\n",
      "|60382 |148    |4.0   |3.496842  |\n",
      "|275860|148    |3.0   |2.7759407 |\n",
      "|8350  |148    |4.0   |2.8493783 |\n",
      "|245316|148    |1.0   |2.0724003 |\n",
      "|51571 |148    |3.0   |3.041218  |\n",
      "|211963|148    |3.0   |2.258726  |\n",
      "|52772 |148    |3.0   |3.3986502 |\n",
      "|167692|148    |3.0   |3.3453176 |\n",
      "|28455 |148    |2.0   |2.4470685 |\n",
      "|117490|148    |3.5   |2.7537823 |\n",
      "|232608|148    |3.0   |3.5940523 |\n",
      "|249016|148    |3.5   |3.4170604 |\n",
      "+------+-------+------+----------+\n",
      "only showing top 30 rows\n",
      "\n"
     ]
    }
   ],
   "source": [
    "predictions.show(30, False)"
   ]
  }
 ],
 "metadata": {
  "kernelspec": {
   "display_name": "Python 3",
   "language": "python",
   "name": "python3"
  },
  "language_info": {
   "codemirror_mode": {
    "name": "ipython",
    "version": 3
   },
   "file_extension": ".py",
   "mimetype": "text/x-python",
   "name": "python",
   "nbconvert_exporter": "python",
   "pygments_lexer": "ipython3",
   "version": "3.8.3"
  }
 },
 "nbformat": 4,
 "nbformat_minor": 4
}
