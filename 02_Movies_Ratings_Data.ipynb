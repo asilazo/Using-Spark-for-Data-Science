{
 "cells": [
  {
   "cell_type": "code",
   "execution_count": 1,
   "metadata": {},
   "outputs": [],
   "source": [
    "# Let's create our entry point\n",
    "\n",
    "from pyspark.sql import SparkSession"
   ]
  },
  {
   "cell_type": "code",
   "execution_count": 2,
   "metadata": {},
   "outputs": [],
   "source": [
    "spark = SparkSession.builder.appName(\"ratingsData\").getOrCreate()"
   ]
  },
  {
   "cell_type": "code",
   "execution_count": 11,
   "metadata": {},
   "outputs": [],
   "source": [
    "# get the movie ratings data\n",
    "\n",
    "ratings_location = \"/home/datamaking/Documents/Hadoop/ml-latest/ratings.csv\"\n",
    "\n",
    "ratings = spark.read.csv(path=ratings_location,\n",
    "                        sep=\",\",\n",
    "                        header=True,\n",
    "                        quote='\"',\n",
    "                        schema=\"userId INT, movieId INT, rating DOUBLE, timestamp INT\",)"
   ]
  },
  {
   "cell_type": "code",
   "execution_count": 9,
   "metadata": {},
   "outputs": [
    {
     "name": "stdout",
     "output_type": "stream",
     "text": [
      "root\n",
      " |-- userId: integer (nullable = true)\n",
      " |-- movieId: integer (nullable = true)\n",
      " |-- rating: double (nullable = true)\n",
      " |-- timestamp: integer (nullable = true)\n",
      "\n"
     ]
    }
   ],
   "source": [
    "ratings.printSchema()"
   ]
  },
  {
   "cell_type": "code",
   "execution_count": 12,
   "metadata": {},
   "outputs": [
    {
     "name": "stdout",
     "output_type": "stream",
     "text": [
      "+------+-------+------+----------+\n",
      "|userId|movieId|rating| timestamp|\n",
      "+------+-------+------+----------+\n",
      "|     1|    307|   3.5|1256677221|\n",
      "|     1|    481|   3.5|1256677456|\n",
      "|     1|   1091|   1.5|1256677471|\n",
      "|     1|   1257|   4.5|1256677460|\n",
      "|     1|   1449|   4.5|1256677264|\n",
      "+------+-------+------+----------+\n",
      "only showing top 5 rows\n",
      "\n"
     ]
    }
   ],
   "source": [
    "ratings.show(5)"
   ]
  },
  {
   "cell_type": "code",
   "execution_count": 13,
   "metadata": {},
   "outputs": [],
   "source": [
    "# let's use sql functions to wrangle our data\n",
    "\n",
    "from pyspark.sql import functions as f"
   ]
  },
  {
   "cell_type": "code",
   "execution_count": 14,
   "metadata": {},
   "outputs": [
    {
     "name": "stdout",
     "output_type": "stream",
     "text": [
      "root\n",
      " |-- userId: integer (nullable = true)\n",
      " |-- movieId: integer (nullable = true)\n",
      " |-- rating: double (nullable = true)\n",
      " |-- timestamp_unix: integer (nullable = true)\n",
      " |-- timestamp: timestamp (nullable = true)\n",
      "\n",
      "+------+-------+------+--------------+-------------------+\n",
      "|userId|movieId|rating|timestamp_unix|          timestamp|\n",
      "+------+-------+------+--------------+-------------------+\n",
      "|     1|    307|   3.5|    1256677221|2009-10-28 00:00:21|\n",
      "|     1|    481|   3.5|    1256677456|2009-10-28 00:04:16|\n",
      "|     1|   1091|   1.5|    1256677471|2009-10-28 00:04:31|\n",
      "|     1|   1257|   4.5|    1256677460|2009-10-28 00:04:20|\n",
      "|     1|   1449|   4.5|    1256677264|2009-10-28 00:01:04|\n",
      "+------+-------+------+--------------+-------------------+\n",
      "only showing top 5 rows\n",
      "\n"
     ]
    }
   ],
   "source": [
    "ratings = (ratings.withColumnRenamed(\"timestamp\",\"timestamp_unix\")\n",
    "           .withColumn(\"timestamp\", f.from_unixtime(\"timestamp_unix\"))\n",
    "           .withColumn(\"timestamp\", f.to_timestamp(\"timestamp\")))\n",
    "\n",
    "\n",
    "\n",
    "ratings.printSchema()\n",
    "ratings.show(5)"
   ]
  },
  {
   "cell_type": "code",
   "execution_count": 15,
   "metadata": {},
   "outputs": [
    {
     "name": "stdout",
     "output_type": "stream",
     "text": [
      "+------+-------+------+-------------------+\n",
      "|userId|movieId|rating|          timestamp|\n",
      "+------+-------+------+-------------------+\n",
      "|     1|    307|   3.5|2009-10-28 00:00:21|\n",
      "|     1|    481|   3.5|2009-10-28 00:04:16|\n",
      "|     1|   1091|   1.5|2009-10-28 00:04:31|\n",
      "|     1|   1257|   4.5|2009-10-28 00:04:20|\n",
      "|     1|   1449|   4.5|2009-10-28 00:01:04|\n",
      "+------+-------+------+-------------------+\n",
      "only showing top 5 rows\n",
      "\n"
     ]
    }
   ],
   "source": [
    "ratings.drop(\"timestamp_unix\").show(5)"
   ]
  },
  {
   "cell_type": "code",
   "execution_count": 28,
   "metadata": {},
   "outputs": [
    {
     "name": "stdout",
     "output_type": "stream",
     "text": [
      "+------+-------+------+-------------------+\n",
      "|userId|movieId|rating|          timestamp|\n",
      "+------+-------+------+-------------------+\n",
      "|     1|    307|   3.5|2009-10-28 00:00:21|\n",
      "|     1|    481|   3.5|2009-10-28 00:04:16|\n",
      "|     1|   1091|   1.5|2009-10-28 00:04:31|\n",
      "|     1|   1257|   4.5|2009-10-28 00:04:20|\n",
      "|     1|   1449|   4.5|2009-10-28 00:01:04|\n",
      "+------+-------+------+-------------------+\n",
      "only showing top 5 rows\n",
      "\n"
     ]
    }
   ],
   "source": [
    "# we can chain the loading and wrangling operations into one compact operation\n",
    "\n",
    "ratings_again = (\n",
    "        spark.read.csv(path=ratings_location,\n",
    "                        sep=\",\",\n",
    "                        header=True,\n",
    "                        quote='\"',\n",
    "                        schema=\"userId INT, movieId INT, rating DOUBLE, timestamp INT\",)\n",
    "                        .withColumnRenamed(\"timestamp\",\"timestamp_unix\")\n",
    "                        .withColumn(\"timestamp\", f.to_timestamp(f.from_unixtime(\"timestamp_unix\")))\n",
    "                        .drop(\"timestamp_unix\")\n",
    "            )\n",
    "\n",
    "\n",
    "ratings_again.show(5)"
   ]
  },
  {
   "cell_type": "code",
   "execution_count": 16,
   "metadata": {},
   "outputs": [
    {
     "name": "stdout",
     "output_type": "stream",
     "text": [
      "root\n",
      " |-- movieID: integer (nullable = true)\n",
      " |-- title: string (nullable = true)\n",
      " |-- genres: string (nullable = true)\n",
      "\n",
      "+-------+----------------------------------+-------------------------------------------+\n",
      "|movieID|title                             |genres                                     |\n",
      "+-------+----------------------------------+-------------------------------------------+\n",
      "|1      |Toy Story (1995)                  |Adventure|Animation|Children|Comedy|Fantasy|\n",
      "|2      |Jumanji (1995)                    |Adventure|Children|Fantasy                 |\n",
      "|3      |Grumpier Old Men (1995)           |Comedy|Romance                             |\n",
      "|4      |Waiting to Exhale (1995)          |Comedy|Drama|Romance                       |\n",
      "|5      |Father of the Bride Part II (1995)|Comedy                                     |\n",
      "|6      |Heat (1995)                       |Action|Crime|Thriller                      |\n",
      "|7      |Sabrina (1995)                    |Comedy|Romance                             |\n",
      "|8      |Tom and Huck (1995)               |Adventure|Children                         |\n",
      "|9      |Sudden Death (1995)               |Action                                     |\n",
      "|10     |GoldenEye (1995)                  |Action|Adventure|Thriller                  |\n",
      "|11     |American President, The (1995)    |Comedy|Drama|Romance                       |\n",
      "|12     |Dracula: Dead and Loving It (1995)|Comedy|Horror                              |\n",
      "|13     |Balto (1995)                      |Adventure|Animation|Children               |\n",
      "|14     |Nixon (1995)                      |Drama                                      |\n",
      "|15     |Cutthroat Island (1995)           |Action|Adventure|Romance                   |\n",
      "+-------+----------------------------------+-------------------------------------------+\n",
      "only showing top 15 rows\n",
      "\n"
     ]
    }
   ],
   "source": [
    "# Let's get the movie data\n",
    "\n",
    "movies_path = \"/home/datamaking/Documents/Hadoop/ml-latest/movies.csv\"\n",
    "\n",
    "movies = spark.read.csv(path=movies_path,\n",
    "                       sep=\",\",\n",
    "                       header=True,\n",
    "                       quote='\"',\n",
    "                       schema=\"movieID int, title string, genres string\")\n",
    "\n",
    "\n",
    "movies.printSchema()\n",
    "\n",
    "movies.show(15, truncate=False)"
   ]
  },
  {
   "cell_type": "code",
   "execution_count": 18,
   "metadata": {},
   "outputs": [
    {
     "name": "stdout",
     "output_type": "stream",
     "text": [
      "+-------+------------------------------------+------+\n",
      "|movieID|title                               |genres|\n",
      "+-------+------------------------------------+------+\n",
      "|681    |Coup de torchon (Clean Slate) (1981)|Crime |\n",
      "|716    |Switchblade Sisters (1975)          |Crime |\n",
      "|732    |Original Gangstas (1996)            |Crime |\n",
      "|1000   |Curdled (1996)                      |Crime |\n",
      "|1313   |Mad Dog Time (1996)                 |Crime |\n",
      "+-------+------------------------------------+------+\n",
      "only showing top 5 rows\n",
      "\n"
     ]
    }
   ],
   "source": [
    "# lets do some filtering by genre the pythonic way\n",
    "\n",
    "movies.where(\"genres = 'Crime'\").show(5, False)"
   ]
  },
  {
   "cell_type": "code",
   "execution_count": 19,
   "metadata": {},
   "outputs": [
    {
     "name": "stdout",
     "output_type": "stream",
     "text": [
      "+-------+------------------------------------+------+\n",
      "|movieID|title                               |genres|\n",
      "+-------+------------------------------------+------+\n",
      "|681    |Coup de torchon (Clean Slate) (1981)|Crime |\n",
      "|716    |Switchblade Sisters (1975)          |Crime |\n",
      "|732    |Original Gangstas (1996)            |Crime |\n",
      "|1000   |Curdled (1996)                      |Crime |\n",
      "|1313   |Mad Dog Time (1996)                 |Crime |\n",
      "+-------+------------------------------------+------+\n",
      "only showing top 5 rows\n",
      "\n"
     ]
    }
   ],
   "source": [
    "# alternatively the SQL way\n",
    "\n",
    "movies.where(f.col(\"genres\") == \"Crime\").show(5, False)"
   ]
  },
  {
   "cell_type": "code",
   "execution_count": 25,
   "metadata": {},
   "outputs": [
    {
     "name": "stdout",
     "output_type": "stream",
     "text": [
      "+-------+--------------------+---------+\n",
      "|MovieId|               title|    genre|\n",
      "+-------+--------------------+---------+\n",
      "|      1|    Toy Story (1995)|Adventure|\n",
      "|      1|    Toy Story (1995)|Animation|\n",
      "|      1|    Toy Story (1995)| Children|\n",
      "|      1|    Toy Story (1995)|   Comedy|\n",
      "|      1|    Toy Story (1995)|  Fantasy|\n",
      "|      2|      Jumanji (1995)|Adventure|\n",
      "|      2|      Jumanji (1995)| Children|\n",
      "|      2|      Jumanji (1995)|  Fantasy|\n",
      "|      3|Grumpier Old Men ...|   Comedy|\n",
      "|      3|Grumpier Old Men ...|  Romance|\n",
      "+-------+--------------------+---------+\n",
      "only showing top 10 rows\n",
      "\n"
     ]
    }
   ],
   "source": [
    "# Array operations\n",
    "\n",
    "movies_genre = (\n",
    "                movies.withColumn(\"genres_array\", f.split(\"genres\", \"\\|\"))\n",
    "                .withColumn(\"genre\", f.explode(\"genres_array\"))\n",
    "                .select(\"MovieId\", \"title\", \"genre\")\n",
    "                )\n",
    "\n",
    "\n",
    "movies_genre.show(10)"
   ]
  },
  {
   "cell_type": "code",
   "execution_count": 28,
   "metadata": {},
   "outputs": [
    {
     "name": "stdout",
     "output_type": "stream",
     "text": [
      "+------------------+\n",
      "|             genre|\n",
      "+------------------+\n",
      "|             Crime|\n",
      "|           Romance|\n",
      "|          Thriller|\n",
      "|         Adventure|\n",
      "|             Drama|\n",
      "|               War|\n",
      "|       Documentary|\n",
      "|           Fantasy|\n",
      "|           Mystery|\n",
      "|           Musical|\n",
      "|         Animation|\n",
      "|         Film-Noir|\n",
      "|(no genres listed)|\n",
      "|              IMAX|\n",
      "|            Horror|\n",
      "|           Western|\n",
      "|            Comedy|\n",
      "|          Children|\n",
      "|            Action|\n",
      "|            Sci-Fi|\n",
      "+------------------+\n",
      "\n"
     ]
    }
   ],
   "source": [
    "available_genres = movies_genre.select(\"genre\").distinct().show()"
   ]
  },
  {
   "cell_type": "code",
   "execution_count": 38,
   "metadata": {},
   "outputs": [
    {
     "name": "stdout",
     "output_type": "stream",
     "text": [
      "+-------+--------------------+------------------+\n",
      "|movieID|               title|            genres|\n",
      "+-------+--------------------+------------------+\n",
      "|  83773|Away with Words (...|(no genres listed)|\n",
      "|  83829|Scorpio Rising (1...|(no genres listed)|\n",
      "|  84768|   Glitterbug (1994)|(no genres listed)|\n",
      "|  86493|Age of the Earth,...|(no genres listed)|\n",
      "|  87061|Trails (Veredas) ...|(no genres listed)|\n",
      "|  91246|Milky Way (Tejút)...|(no genres listed)|\n",
      "|  92435|Dancing Hawk, The...|(no genres listed)|\n",
      "|  92641|Warsaw Bridge (Po...|(no genres listed)|\n",
      "|  94431|Ella Lola, a la T...|(no genres listed)|\n",
      "|  94657|Turkish Dance, El...|(no genres listed)|\n",
      "+-------+--------------------+------------------+\n",
      "only showing top 10 rows\n",
      "\n",
      "There are 4266 movies without genres\n"
     ]
    }
   ],
   "source": [
    "movies_without_genre = movies.where(f.col(\"genres\") == \"(no genres listed)\")\n",
    "\n",
    "movies_without_genre.show(10)\n",
    "\n",
    "print(f'There are {movies_without_genre.count()} movies without genres')"
   ]
  },
  {
   "cell_type": "code",
   "execution_count": 54,
   "metadata": {},
   "outputs": [
    {
     "name": "stdout",
     "output_type": "stream",
     "text": [
      "root\n",
      " |-- movieId: integer (nullable = true)\n",
      " |-- imdbId: integer (nullable = true)\n",
      " |-- tmdbId: integer (nullable = true)\n",
      "\n",
      "+-------+------+------+\n",
      "|movieId|imdbId|tmdbId|\n",
      "+-------+------+------+\n",
      "|      1|114709|   862|\n",
      "|      2|113497|  8844|\n",
      "|      3|113228| 15602|\n",
      "|      4|114885| 31357|\n",
      "|      5|113041| 11862|\n",
      "+-------+------+------+\n",
      "only showing top 5 rows\n",
      "\n"
     ]
    }
   ],
   "source": [
    "# Let's get the links and tags data\n",
    "\n",
    "links_path = \"/home/datamaking/Documents/Hadoop/ml-latest/links.csv\"\n",
    "\n",
    "\n",
    "\n",
    "links = spark.read.csv(\n",
    "        path=links_path,\n",
    "        sep=\",\",\n",
    "        header=True,\n",
    "        quote='\"',\n",
    "        schema=\"movieId int, imdbId int, tmdbId int\",\n",
    "        )\n",
    "\n",
    "\n",
    "links.printSchema()\n",
    "\n",
    "links.show(5)"
   ]
  },
  {
   "cell_type": "code",
   "execution_count": 55,
   "metadata": {},
   "outputs": [
    {
     "name": "stdout",
     "output_type": "stream",
     "text": [
      "root\n",
      " |-- userId: integer (nullable = true)\n",
      " |-- movieId: integer (nullable = true)\n",
      " |-- tag: string (nullable = true)\n",
      " |-- timestamp: timestamp (nullable = true)\n",
      "\n",
      "+------+-------+------------+-------------------+\n",
      "|userId|movieId|         tag|          timestamp|\n",
      "+------+-------+------------+-------------------+\n",
      "|    14|    110|        epic|2015-09-25 05:35:38|\n",
      "|    14|    110|    Medieval|2015-09-25 05:35:32|\n",
      "|    14|    260|      sci-fi|2015-09-13 21:36:50|\n",
      "|    14|    260|space action|2015-09-13 21:37:01|\n",
      "|    14|    318|imdb top 250|2015-09-19 01:26:35|\n",
      "+------+-------+------------+-------------------+\n",
      "only showing top 5 rows\n",
      "\n"
     ]
    }
   ],
   "source": [
    "tags_path = \"/home/datamaking/Documents/Hadoop/ml-latest/tags.csv\"\n",
    "\n",
    "tags = spark.read.csv(\n",
    "        path=tags_path,\n",
    "        sep=\",\",\n",
    "        quote='\"',\n",
    "        header=True,\n",
    "        schema=\"userId int, movieId int, tag string, timestamp int\",\n",
    "        ).withColumn(\"timestamp\",f.to_timestamp(f.from_unixtime(\"timestamp\")))\n",
    "\n",
    "\n",
    "\n",
    "tags.printSchema()\n",
    "\n",
    "tags.show(5)"
   ]
  },
  {
   "cell_type": "code",
   "execution_count": 57,
   "metadata": {},
   "outputs": [
    {
     "name": "stdout",
     "output_type": "stream",
     "text": [
      "+------------------+-----+\n",
      "|             genre|count|\n",
      "+------------------+-----+\n",
      "|             Crime| 5105|\n",
      "|           Romance| 7412|\n",
      "|          Thriller| 8216|\n",
      "|         Adventure| 4067|\n",
      "|             Drama|24144|\n",
      "|               War| 1820|\n",
      "|       Documentary| 5118|\n",
      "|           Fantasy| 2637|\n",
      "|           Mystery| 2773|\n",
      "|           Musical| 1113|\n",
      "|         Animation| 2663|\n",
      "|         Film-Noir|  364|\n",
      "|(no genres listed)| 4266|\n",
      "|              IMAX|  197|\n",
      "|            Horror| 5555|\n",
      "|           Western| 1378|\n",
      "|            Comedy|15956|\n",
      "|          Children| 2749|\n",
      "|            Action| 7130|\n",
      "|            Sci-Fi| 3444|\n",
      "+------------------+-----+\n",
      "\n"
     ]
    }
   ],
   "source": [
    "# Count of movies per genre\n",
    "\n",
    "movies_per_genre = movies_genre.groupBy(\"genre\").count()\n",
    "\n",
    "movies_per_genre.show()"
   ]
  },
  {
   "cell_type": "code",
   "execution_count": 59,
   "metadata": {},
   "outputs": [
    {
     "name": "stdout",
     "output_type": "stream",
     "text": [
      "+-------+--------------------+--------------------+------+--------------+-------------------+\n",
      "|movieID|               title|              genres|userId|           tag|          timestamp|\n",
      "+-------+--------------------+--------------------+------+--------------+-------------------+\n",
      "|    110|   Braveheart (1995)|    Action|Drama|War|    14|          epic|2015-09-25 05:35:38|\n",
      "|    110|   Braveheart (1995)|    Action|Drama|War|    14|      Medieval|2015-09-25 05:35:32|\n",
      "|    260|Star Wars: Episod...|Action|Adventure|...|    14|        sci-fi|2015-09-13 21:36:50|\n",
      "|    260|Star Wars: Episod...|Action|Adventure|...|    14|  space action|2015-09-13 21:37:01|\n",
      "|    318|Shawshank Redempt...|         Crime|Drama|    14|  imdb top 250|2015-09-19 01:26:35|\n",
      "|    318|Shawshank Redempt...|         Crime|Drama|    14|       justice|2015-09-19 01:26:32|\n",
      "|    480|Jurassic Park (1993)|Action|Adventure|...|    14|     Dinosaurs|2015-09-25 05:36:03|\n",
      "|    593|Silence of the La...|Crime|Horror|Thri...|    14|psychothriller|2015-10-05 06:04:46|\n",
      "|   1682|Truman Show, The ...| Comedy|Drama|Sci-Fi|    14|    philosophy|2015-09-19 01:25:58|\n",
      "|   1682|Truman Show, The ...| Comedy|Drama|Sci-Fi|    14|  surveillance|2015-09-19 01:26:07|\n",
      "+-------+--------------------+--------------------+------+--------------+-------------------+\n",
      "only showing top 10 rows\n",
      "\n"
     ]
    }
   ],
   "source": [
    "# Joining data\n",
    "# the default join is \"inner\"\n",
    "\n",
    "opinions = movies.join(tags, [\"movieId\"])\n",
    "\n",
    "opinions.show(10)"
   ]
  },
  {
   "cell_type": "code",
   "execution_count": 60,
   "metadata": {},
   "outputs": [
    {
     "name": "stdout",
     "output_type": "stream",
     "text": [
      "+-------+--------------------+--------------------+------+--------------------+-------------------+\n",
      "|movieID|               title|              genres|userId|                 tag|          timestamp|\n",
      "+-------+--------------------+--------------------+------+--------------------+-------------------+\n",
      "|    148|Awfully Big Adven...|               Drama| 40716|Nudity (Topless -...|2006-09-20 09:46:17|\n",
      "|    148|Awfully Big Adven...|               Drama| 73406|               1940s|2018-06-07 08:44:07|\n",
      "|    148|Awfully Big Adven...|               Drama| 73406|based on novel or...|2018-06-07 08:44:07|\n",
      "|    148|Awfully Big Adven...|               Drama| 73406|             england|2018-06-07 08:44:07|\n",
      "|    148|Awfully Big Adven...|               Drama| 73406|           liverpool|2018-06-07 08:44:07|\n",
      "|    148|Awfully Big Adven...|               Drama| 73406|     theatre company|2018-06-07 08:44:07|\n",
      "|    148|Awfully Big Adven...|               Drama|103013|    nudity (topless)|2014-05-17 02:12:20|\n",
      "|    148|Awfully Big Adven...|               Drama|146340|              catchy|2015-06-22 13:32:07|\n",
      "|    463|Guilty as Sin (1993)|Crime|Drama|Thriller|  null|                null|               null|\n",
      "|    471|Hudsucker Proxy, ...|              Comedy| 15930|             Fantasy|2011-08-03 02:57:17|\n",
      "|    471|Hudsucker Proxy, ...|              Comedy| 15930|               funny|2011-08-03 02:57:14|\n",
      "|    471|Hudsucker Proxy, ...|              Comedy| 15930|           whimsical|2011-08-03 02:57:09|\n",
      "|    471|Hudsucker Proxy, ...|              Comedy| 15930|               witty|2011-08-03 02:57:06|\n",
      "|    471|Hudsucker Proxy, ...|              Comedy| 19725|             rewatch|2016-12-30 03:23:33|\n",
      "|    471|Hudsucker Proxy, ...|              Comedy| 22511|Business is the a...|2018-06-12 02:55:42|\n",
      "|    471|Hudsucker Proxy, ...|              Comedy| 22511|              cheesy|2018-06-12 02:55:35|\n",
      "|    471|Hudsucker Proxy, ...|              Comedy| 22511|              quirky|2018-06-12 02:55:47|\n",
      "|    471|Hudsucker Proxy, ...|              Comedy| 32560|         Capra-esque|2007-11-28 00:57:52|\n",
      "|    471|Hudsucker Proxy, ...|              Comedy| 41486|              btaege|2013-07-17 06:39:55|\n",
      "|    471|Hudsucker Proxy, ...|              Comedy| 44299|       Coen Brothers|2014-02-19 10:55:14|\n",
      "+-------+--------------------+--------------------+------+--------------------+-------------------+\n",
      "only showing top 20 rows\n",
      "\n"
     ]
    }
   ],
   "source": [
    "# let's do a left join\n",
    "\n",
    "opinions_left = movies.join(tags, [\"movieId\"], \"left\")\n",
    "\n",
    "opinions_left.show() # you can notice some nulls introduced"
   ]
  },
  {
   "cell_type": "code",
   "execution_count": 67,
   "metadata": {},
   "outputs": [
    {
     "name": "stdout",
     "output_type": "stream",
     "text": [
      "+------+-------+-----------------------------------------+--------------+-------------------+\n",
      "|userId|movieId|title                                    |tag           |timestamp          |\n",
      "+------+-------+-----------------------------------------+--------------+-------------------+\n",
      "|14    |110    |Braveheart (1995)                        |epic          |2015-09-25 05:35:38|\n",
      "|14    |110    |Braveheart (1995)                        |Medieval      |2015-09-25 05:35:32|\n",
      "|14    |260    |Star Wars: Episode IV - A New Hope (1977)|sci-fi        |2015-09-13 21:36:50|\n",
      "|14    |260    |Star Wars: Episode IV - A New Hope (1977)|space action  |2015-09-13 21:37:01|\n",
      "|14    |318    |Shawshank Redemption, The (1994)         |imdb top 250  |2015-09-19 01:26:35|\n",
      "|14    |318    |Shawshank Redemption, The (1994)         |justice       |2015-09-19 01:26:32|\n",
      "|14    |480    |Jurassic Park (1993)                     |Dinosaurs     |2015-09-25 05:36:03|\n",
      "|14    |593    |Silence of the Lambs, The (1991)         |psychothriller|2015-10-05 06:04:46|\n",
      "|14    |1682   |Truman Show, The (1998)                  |philosophy    |2015-09-19 01:25:58|\n",
      "|14    |1682   |Truman Show, The (1998)                  |surveillance  |2015-09-19 01:26:07|\n",
      "+------+-------+-----------------------------------------+--------------+-------------------+\n",
      "only showing top 10 rows\n",
      "\n"
     ]
    }
   ],
   "source": [
    "# let's do some clean up on the opinions dataframe\n",
    "\n",
    "opinions = (\n",
    "            movies\n",
    "            .join(tags, [\"movieId\"], \"left\")\n",
    "            .select(\"userId\", \"movieId\", \"title\", \"tag\", \"timestamp\"))\n",
    "\n",
    "opinions.show(10, truncate=False)"
   ]
  },
  {
   "cell_type": "code",
   "execution_count": null,
   "metadata": {},
   "outputs": [],
   "source": [
    "# get the ratings data in, rename the \"timestamp\" column from the tags join\n",
    "\n",
    "extended_opinions = (\n",
    "                    opinions\n",
    "                    .withColumnRenamed(\"timestamp\", \"tag_time\")\n",
    "                    .join(ratings, [\"movieId\", \"userId\"])\n",
    "                    )\n",
    "\n",
    "\n",
    "\n",
    "extended_opinions.show(10)"
   ]
  },
  {
   "cell_type": "code",
   "execution_count": null,
   "metadata": {},
   "outputs": [],
   "source": []
  }
 ],
 "metadata": {
  "kernelspec": {
   "display_name": "Python 3",
   "language": "python",
   "name": "python3"
  },
  "language_info": {
   "codemirror_mode": {
    "name": "ipython",
    "version": 3
   },
   "file_extension": ".py",
   "mimetype": "text/x-python",
   "name": "python",
   "nbconvert_exporter": "python",
   "pygments_lexer": "ipython3",
   "version": "3.8.3"
  }
 },
 "nbformat": 4,
 "nbformat_minor": 4
}
